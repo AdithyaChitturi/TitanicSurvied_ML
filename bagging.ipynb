{
 "cells": [
  {
   "cell_type": "code",
   "execution_count": 2,
   "id": "92a26721",
   "metadata": {},
   "outputs": [
    {
     "name": "stdout",
     "output_type": "stream",
     "text": [
      "<class 'pandas.core.frame.DataFrame'>\n",
      "RangeIndex: 891 entries, 0 to 890\n",
      "Data columns (total 12 columns):\n",
      " #   Column       Non-Null Count  Dtype  \n",
      "---  ------       --------------  -----  \n",
      " 0   PassengerId  891 non-null    int64  \n",
      " 1   Survived     891 non-null    int64  \n",
      " 2   Pclass       891 non-null    int64  \n",
      " 3   Name         891 non-null    object \n",
      " 4   Sex          891 non-null    object \n",
      " 5   Age          714 non-null    float64\n",
      " 6   SibSp        891 non-null    int64  \n",
      " 7   Parch        891 non-null    int64  \n",
      " 8   Ticket       891 non-null    object \n",
      " 9   Fare         891 non-null    float64\n",
      " 10  Cabin        204 non-null    object \n",
      " 11  Embarked     889 non-null    object \n",
      "dtypes: float64(2), int64(5), object(5)\n",
      "memory usage: 83.7+ KB\n",
      "<class 'pandas.core.frame.DataFrame'>\n",
      "RangeIndex: 891 entries, 0 to 890\n",
      "Data columns (total 17 columns):\n",
      " #   Column       Non-Null Count  Dtype  \n",
      "---  ------       --------------  -----  \n",
      " 0   PassengerId  891 non-null    int64  \n",
      " 1   Survived     891 non-null    int64  \n",
      " 2   Name         891 non-null    object \n",
      " 3   Age          714 non-null    float64\n",
      " 4   SibSp        891 non-null    int64  \n",
      " 5   Parch        891 non-null    int64  \n",
      " 6   Ticket       891 non-null    object \n",
      " 7   Fare         891 non-null    float64\n",
      " 8   Cabin        204 non-null    object \n",
      " 9   Pclass_1     891 non-null    uint8  \n",
      " 10  Pclass_2     891 non-null    uint8  \n",
      " 11  Pclass_3     891 non-null    uint8  \n",
      " 12  Sex_female   891 non-null    uint8  \n",
      " 13  Sex_male     891 non-null    uint8  \n",
      " 14  Embarked_C   891 non-null    uint8  \n",
      " 15  Embarked_Q   891 non-null    uint8  \n",
      " 16  Embarked_S   891 non-null    uint8  \n",
      "dtypes: float64(2), int64(4), object(3), uint8(8)\n",
      "memory usage: 69.7+ KB\n"
     ]
    },
    {
     "name": "stderr",
     "output_type": "stream",
     "text": [
      "C:\\Users\\Sandeep\\AppData\\Local\\Temp/ipykernel_11856/2807736127.py:26: FutureWarning: In a future version of pandas all arguments of DataFrame.drop except for the argument 'labels' will be keyword-only\n",
      "  X_train = titanic_train1.drop(['PassengerId','Age','Cabin','Ticket', 'Name','Survived'], 1)\n"
     ]
    },
    {
     "data": {
      "text/plain": [
       "'D:\\\\DSBDA\\\\titanic data'"
      ]
     },
     "execution_count": 2,
     "metadata": {},
     "output_type": "execute_result"
    }
   ],
   "source": [
    "import os\n",
    "import pandas as pd\n",
    "from sklearn import tree\n",
    "from sklearn import model_selection\n",
    "import pydotplus\n",
    "import io\n",
    "from sklearn import ensemble \n",
    "os.getcwd()\n",
    "#changes working directory\n",
    "os.chdir(\"D:/DSBDA/titanic data\")\n",
    "os.environ[\"PATH\"] += os.pathsep + 'C:/Program Files (x86)/Graphviz/bin/'\n",
    "\n",
    "titanic_train = pd.read_csv(\"train.csv\")\n",
    "\n",
    "#EDA\n",
    "titanic_train.shape\n",
    "titanic_train.info()\n",
    "\n",
    "titanic_train1 = pd.get_dummies(titanic_train, columns=['Pclass', 'Sex', 'Embarked'])\n",
    "titanic_train1.shape\n",
    "titanic_train1.info()\n",
    "titanic_train1.head(6)\n",
    "\n",
    "X_train = titanic_train1.drop(['PassengerId','Age','Cabin','Ticket', 'Name','Survived'], 1)\n",
    "y_train = titanic_train['Survived']\n",
    "\n",
    "#cv accuracy for bagged tree ensemble\n",
    "dt_estimator = tree.DecisionTreeClassifier()\n",
    "#Appy ensemble.BaggingClassificatier\n",
    "#Base_Estimator = dt_estimator, n_estimators = 5(no. of trees)\n",
    "bag_tree_estimator1 = ensemble.BaggingClassifier(base_estimator = dt_estimator, n_estimators = 5)\n",
    "scores = model_selection.cross_val_score(bag_tree_estimator1, X_train, y_train, cv = 10)\n",
    "#print(scores)\n",
    "#print(scores.mean())\n",
    "bag_tree_estimator1.fit(X_train, y_train)\n",
    "\n",
    "#Alternative way with parameters and use GridSearchCV instead of cross_val_score\n",
    "#bag_tree_estimator2 = ensemble.BaggingClassifier(base_estimator = dt_estimator, n_estimators = 5, random_state=2017)\n",
    "#bag_grid = {'criterion':['entropy','gini']}\n",
    "\n",
    "#bag_grid_estimator = model_selection.GridSearchCV(bag_tree_estimator2, bag_grid, n_jobs=6)\n",
    "#bag_tree_estimator2.fit(X_train, y_train)\n",
    "\n",
    "#oob(Out Of the Bag) accuracy for bagged tree ensemble\n",
    "#==============================================================================\n",
    "# bag_tree_estimator2 = ensemble.BaggingClassifier(dt_estimator, 5, oob_score=True) #oob_score=True\n",
    "# bag_tree_estimator2.fit(X_train, y_train)\n",
    "# bag_tree_estimator2.oob_score_\n",
    "#==============================================================================\n",
    "\n",
    "#extracting all the trees build by random forest algorithm\n",
    "n_tree = 0\n",
    "for est in bag_tree_estimator1.estimators_: \n",
    "#for est in bag_tree_estimator2.estimators_: \n",
    "    dot_data = io.StringIO()\n",
    "    #tmp = est.tree_\n",
    "    tree.export_graphviz(est, out_file = dot_data, feature_names = X_train.columns)\n",
    "    graph = pydotplus.graph_from_dot_data(dot_data.getvalue())#[0] \n",
    "    graph.write_pdf(\"bagtree\" + str(n_tree) + \".pdf\")\n",
    "    n_tree = n_tree + 1\n",
    "    \n",
    "os.getcwd()"
   ]
  }
 ],
 "metadata": {
  "kernelspec": {
   "display_name": "Python 3 (ipykernel)",
   "language": "python",
   "name": "python3"
  },
  "language_info": {
   "codemirror_mode": {
    "name": "ipython",
    "version": 3
   },
   "file_extension": ".py",
   "mimetype": "text/x-python",
   "name": "python",
   "nbconvert_exporter": "python",
   "pygments_lexer": "ipython3",
   "version": "3.10.9"
  }
 },
 "nbformat": 4,
 "nbformat_minor": 5
}

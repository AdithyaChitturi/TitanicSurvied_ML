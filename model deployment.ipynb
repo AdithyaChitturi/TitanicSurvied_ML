{
 "cells": [
  {
   "cell_type": "code",
   "execution_count": 1,
   "id": "89cefa86",
   "metadata": {},
   "outputs": [
    {
     "name": "stdout",
     "output_type": "stream",
     "text": [
      "<class 'pandas.core.frame.DataFrame'>\n",
      "RangeIndex: 891 entries, 0 to 890\n",
      "Data columns (total 12 columns):\n",
      " #   Column       Non-Null Count  Dtype  \n",
      "---  ------       --------------  -----  \n",
      " 0   PassengerId  891 non-null    int64  \n",
      " 1   Survived     891 non-null    int64  \n",
      " 2   Pclass       891 non-null    int64  \n",
      " 3   Name         891 non-null    object \n",
      " 4   Sex          891 non-null    object \n",
      " 5   Age          714 non-null    float64\n",
      " 6   SibSp        891 non-null    int64  \n",
      " 7   Parch        891 non-null    int64  \n",
      " 8   Ticket       891 non-null    object \n",
      " 9   Fare         891 non-null    float64\n",
      " 10  Cabin        204 non-null    object \n",
      " 11  Embarked     889 non-null    object \n",
      "dtypes: float64(2), int64(5), object(5)\n",
      "memory usage: 83.7+ KB\n",
      "<class 'pandas.core.frame.DataFrame'>\n",
      "RangeIndex: 891 entries, 0 to 890\n",
      "Data columns (total 17 columns):\n",
      " #   Column       Non-Null Count  Dtype  \n",
      "---  ------       --------------  -----  \n",
      " 0   PassengerId  891 non-null    int64  \n",
      " 1   Survived     891 non-null    int64  \n",
      " 2   Name         891 non-null    object \n",
      " 3   Age          714 non-null    float64\n",
      " 4   SibSp        891 non-null    int64  \n",
      " 5   Parch        891 non-null    int64  \n",
      " 6   Ticket       891 non-null    object \n",
      " 7   Fare         891 non-null    float64\n",
      " 8   Cabin        204 non-null    object \n",
      " 9   Pclass_1     891 non-null    uint8  \n",
      " 10  Pclass_2     891 non-null    uint8  \n",
      " 11  Pclass_3     891 non-null    uint8  \n",
      " 12  Sex_female   891 non-null    uint8  \n",
      " 13  Sex_male     891 non-null    uint8  \n",
      " 14  Embarked_C   891 non-null    uint8  \n",
      " 15  Embarked_Q   891 non-null    uint8  \n",
      " 16  Embarked_S   891 non-null    uint8  \n",
      "dtypes: float64(2), int64(4), object(3), uint8(8)\n",
      "memory usage: 69.7+ KB\n"
     ]
    },
    {
     "name": "stderr",
     "output_type": "stream",
     "text": [
      "C:\\Users\\Sandeep\\AppData\\Local\\Temp/ipykernel_20268/1986432645.py:25: FutureWarning: In a future version of pandas all arguments of DataFrame.drop except for the argument 'labels' will be keyword-only\n",
      "  X_train = titanic_train1.drop(['PassengerId','Age','Cabin','Ticket', 'Name','Survived'], 1)\n"
     ]
    },
    {
     "name": "stdout",
     "output_type": "stream",
     "text": [
      "0.8170911360799001\n",
      "{'criterion': 'gini', 'max_depth': 11, 'min_samples_split': 6}\n",
      "0.8945005611672279\n"
     ]
    },
    {
     "data": {
      "text/plain": [
       "['TitanicModel.pkl']"
      ]
     },
     "execution_count": 1,
     "metadata": {},
     "output_type": "execute_result"
    }
   ],
   "source": [
    "import os\n",
    "import pandas as pd\n",
    "from sklearn import tree\n",
    "from sklearn import model_selection\n",
    "#from sklearn.externals import joblib #For exporting and importing\n",
    "import joblib\n",
    "#returns current working directory\n",
    "os.getcwd()\n",
    "#changes working directory\n",
    "os.chdir(\"D:/DSBDA/titanic data\")\n",
    "\n",
    "titanic_train = pd.read_csv(\"train.csv\")\n",
    "\n",
    "#EDA\n",
    "titanic_train.shape\n",
    "titanic_train.info()\n",
    "\n",
    "#data preparation\n",
    "titanic_train1 = pd.get_dummies(titanic_train, columns=['Pclass', 'Sex', 'Embarked'])\n",
    "titanic_train1.shape\n",
    "titanic_train1.info()\n",
    "titanic_train1.head(6)\n",
    "\n",
    "#feature engineering \n",
    "X_train = titanic_train1.drop(['PassengerId','Age','Cabin','Ticket', 'Name','Survived'], 1)\n",
    "y_train = titanic_train['Survived']\n",
    "\n",
    "#build the decision tree model\n",
    "dt = tree.DecisionTreeClassifier(criterion = 'entropy')\n",
    "\n",
    "dt_grid = {'criterion':['gini','entropy'], 'max_depth':list(range(3,12)), 'min_samples_split':[2,3,6,7,8]}\n",
    "param_grid = model_selection.GridSearchCV(dt, dt_grid, cv=10) #Evolution of tee\n",
    "param_grid.fit(X_train, y_train) #Building the tree\n",
    "print(param_grid.best_score_) #Best score\n",
    "print(param_grid.best_params_)\n",
    "print(param_grid.score(X_train, y_train)) #train score  #Evolution of tree\n",
    "\n",
    "#use cross validation to estimate performance of model. \n",
    "#==============================================================================\n",
    "# cv_scores = model_selection. (dt, X_train, y_train, cv=5, verbose=3)\n",
    "# cv_scores.mean()\n",
    "#==============================================================================\n",
    "\n",
    "#build final model on entire train data which is us for prediction\n",
    "#dt.fit(X_train,y_train)\n",
    "\n",
    "# natively deploy decision tree model(pickle format)\n",
    "os.getcwd()\n",
    "joblib.dump(param_grid, \"TitanicModel.pkl\")\n",
    "\n",
    "\n"
   ]
  },
  {
   "cell_type": "code",
   "execution_count": 2,
   "id": "91c2b4b9",
   "metadata": {},
   "outputs": [
    {
     "name": "stderr",
     "output_type": "stream",
     "text": [
      "C:\\Users\\Sandeep\\AppData\\Local\\Temp/ipykernel_20268/3575994187.py:10: SettingWithCopyWarning: \n",
      "A value is trying to be set on a copy of a slice from a DataFrame\n",
      "\n",
      "See the caveats in the documentation: https://pandas.pydata.org/pandas-docs/stable/user_guide/indexing.html#returning-a-view-versus-a-copy\n",
      "  titanic_test.Fare[titanic_test['Fare'].isnull()] = titanic_test['Fare'].mean()\n",
      "C:\\Users\\Sandeep\\AppData\\Local\\Temp/ipykernel_20268/3575994187.py:13: FutureWarning: In a future version of pandas all arguments of DataFrame.drop except for the argument 'labels' will be keyword-only\n",
      "  X_test = titanic_test1.drop(['PassengerId','Age','Cabin','Ticket', 'Name'], 1)\n"
     ]
    }
   ],
   "source": [
    "import os\n",
    "import pandas as pd\n",
    "import joblib\n",
    "\n",
    "#changes working directory\n",
    "os.chdir(\"D:/DSBDA/titanic data\")\n",
    "\n",
    "#predict the outcome using decision tree\n",
    "titanic_test = pd.read_csv(\"test.csv\")\n",
    "titanic_test.Fare[titanic_test['Fare'].isnull()] = titanic_test['Fare'].mean()\n",
    "\n",
    "titanic_test1 = pd.get_dummies(titanic_test, columns=['Pclass', 'Sex', 'Embarked'])\n",
    "X_test = titanic_test1.drop(['PassengerId','Age','Cabin','Ticket', 'Name'], 1)\n",
    "\n",
    "#Use load method to load Pickle file\n",
    "dtree = joblib.load(\"TitanicModel.pkl\")\n",
    "titanic_test['Survived'] = dtree.predict(X_test)\n",
    "titanic_test.to_csv(\"submissionUsingJobLib.csv\", columns=['PassengerId','Survived'], index=False)"
   ]
  }
 ],
 "metadata": {
  "kernelspec": {
   "display_name": "Python 3 (ipykernel)",
   "language": "python",
   "name": "python3"
  },
  "language_info": {
   "codemirror_mode": {
    "name": "ipython",
    "version": 3
   },
   "file_extension": ".py",
   "mimetype": "text/x-python",
   "name": "python",
   "nbconvert_exporter": "python",
   "pygments_lexer": "ipython3",
   "version": "3.10.9"
  }
 },
 "nbformat": 4,
 "nbformat_minor": 5
}
